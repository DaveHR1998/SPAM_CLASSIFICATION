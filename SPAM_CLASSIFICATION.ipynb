{
 "cells": [
  {
   "cell_type": "code",
   "execution_count": 1,
   "id": "2cfa64f0",
   "metadata": {},
   "outputs": [],
   "source": [
    "import pandas as pd\n",
    "from nltk.stem import WordNetLemmatizer\n",
    "from nltk.corpus import stopwords\n",
    "from nltk import pos_tag, word_tokenize\n",
    "from sklearn.model_selection import train_test_split\n",
    "from sklearn.feature_extraction.text import TfidfVectorizer\n",
    "from sklearn import svm\n",
    "from sklearn.metrics import confusion_matrix"
   ]
  },
  {
   "cell_type": "code",
   "execution_count": 2,
   "id": "a150b1a3",
   "metadata": {},
   "outputs": [],
   "source": [
    "data = pd.read_csv(\"spam.csv\", encoding = \"latin-1\")\n",
    "data = data[['v1', 'v2']]\n",
    "data = data.rename(columns = {'v1': 'label', 'v2': 'text'})"
   ]
  },
  {
   "cell_type": "code",
   "execution_count": 3,
   "id": "d857d5a2",
   "metadata": {},
   "outputs": [
    {
     "name": "stderr",
     "output_type": "stream",
     "text": [
      "[nltk_data] Downloading package stopwords to\n",
      "[nltk_data]     C:\\Users\\devhr\\AppData\\Roaming\\nltk_data...\n",
      "[nltk_data]   Package stopwords is already up-to-date!\n"
     ]
    }
   ],
   "source": [
    "import nltk\n",
    "from nltk.corpus import stopwords\n",
    "nltk.download('stopwords')\n",
    "lemmatizer = WordNetLemmatizer()\n",
    "stopwords = set(stopwords.words('english'))"
   ]
  },
  {
   "cell_type": "code",
   "execution_count": 4,
   "id": "3f209afd",
   "metadata": {},
   "outputs": [],
   "source": [
    "def review_messages(msg):\n",
    "    # converting messages to lowercase\n",
    "    msg = msg.lower()\n",
    "    return msg\n"
   ]
  },
  {
   "cell_type": "code",
   "execution_count": 5,
   "id": "68873c27",
   "metadata": {},
   "outputs": [],
   "source": [
    "def alternative_review_messages(msg):\n",
    "    # converting messages to lowercase\n",
    "    msg = msg.lower()\n",
    "\n",
    "    # uses a lemmatizer (wnpos is the parts of speech tag)\n",
    "    # unfortunately wordnet and nltk uses a different set of terminology for pos tags\n",
    "    # first, we must translate the nltk pos to wordnet\n",
    "    nltk_pos = [tag[1] for tag in pos_tag(word_tokenize(msg))]\n",
    "    msg = [tag[0] for tag in pos_tag(word_tokenize(msg))]\n",
    "    wnpos = ['a' if tag[0] == 'J' else tag[0].lower() if tag[0] in ['N', 'R', 'V'] else 'n' for tag in nltk_pos]\n",
    "    msg = \" \".join([lemmatizer.lemmatize(word, wnpos[i]) for i, word in enumerate(msg)])\n",
    "\n",
    "    # removing stopwords \n",
    "    msg = [word for word in msg.split() if word not in stopwords]\n",
    "\n",
    "    return msg"
   ]
  },
  {
   "cell_type": "code",
   "execution_count": 6,
   "id": "8b12143f",
   "metadata": {},
   "outputs": [
    {
     "name": "stdout",
     "output_type": "stream",
     "text": [
      "[[490   0]\n",
      " [  5  63]]\n"
     ]
    }
   ],
   "source": [
    "# Processing text messages\n",
    "data['text'] = data['text'].apply(review_messages)\n",
    "\n",
    "# train test split \n",
    "X_train, X_test, y_train, y_test = train_test_split(data['text'], data['label'], test_size = 0.1, random_state = 1)\n",
    "\n",
    "# training vectorizer\n",
    "vectorizer = TfidfVectorizer()\n",
    "X_train = vectorizer.fit_transform(X_train)\n",
    "\n",
    "# training the classifier \n",
    "svm = svm.SVC(C=1000)\n",
    "svm.fit(X_train, y_train)\n",
    "\n",
    "# testing against testing set \n",
    "X_test = vectorizer.transform(X_test)\n",
    "y_pred = svm.predict(X_test) \n",
    "print(confusion_matrix(y_test, y_pred))\n"
   ]
  },
  {
   "cell_type": "code",
   "execution_count": 7,
   "id": "5475f363",
   "metadata": {},
   "outputs": [
    {
     "name": "stdout",
     "output_type": "stream",
     "text": [
      "0.9910394265232975\n"
     ]
    }
   ],
   "source": [
    "print(svm.score(X_test,y_test))\n"
   ]
  },
  {
   "cell_type": "code",
   "execution_count": 8,
   "id": "f3689aed",
   "metadata": {},
   "outputs": [],
   "source": [
    "# test against new messages \n",
    "def pred(msg):\n",
    "    msg = vectorizer.transform([msg])\n",
    "    prediction = svm.predict(msg)\n",
    "    return prediction[0]"
   ]
  },
  {
   "cell_type": "code",
   "execution_count": 9,
   "id": "2add179f",
   "metadata": {},
   "outputs": [
    {
     "data": {
      "text/plain": [
       "'spam'"
      ]
     },
     "execution_count": 9,
     "metadata": {},
     "output_type": "execute_result"
    }
   ],
   "source": [
    "pred('Congratulations! You’ve won a $500 gift card to Target. Click here to claim your reward.')"
   ]
  },
  {
   "cell_type": "code",
   "execution_count": 12,
   "id": "28a2b169",
   "metadata": {},
   "outputs": [
    {
     "data": {
      "text/plain": [
       "'ham'"
      ]
     },
     "execution_count": 12,
     "metadata": {},
     "output_type": "execute_result"
    }
   ],
   "source": [
    "pred(\"Hello dave, your shipment from UPS will arrive today. Click here to track your package.\")"
   ]
  },
  {
   "cell_type": "code",
   "execution_count": 11,
   "id": "33f2f9c1-58a7-4b23-a567-3e2b99b97926",
   "metadata": {},
   "outputs": [
    {
     "data": {
      "text/plain": [
       "'ham'"
      ]
     },
     "execution_count": 11,
     "metadata": {},
     "output_type": "execute_result"
    }
   ],
   "source": [
    "pred(\"Your Wells Fargo account has been locked for suspicious activity. Please log in here and verify your account.\")"
   ]
  },
  {
   "cell_type": "code",
   "execution_count": 13,
   "id": "195346f7-c608-45b9-9c6d-0cd3cbff9c11",
   "metadata": {},
   "outputs": [
    {
     "data": {
      "text/plain": [
       "'ham'"
      ]
     },
     "execution_count": 13,
     "metadata": {},
     "output_type": "execute_result"
    }
   ],
   "source": [
    "pred(\"Hey, this is dave. I’m in a meeting, but I need you to order 5 Amazon gift cards ASAP. I’ll reimburse you once you send them to this email address.\")"
   ]
  },
  {
   "cell_type": "code",
   "execution_count": 14,
   "id": "1654a0b6-0c1a-432f-bf87-6ccd76210554",
   "metadata": {},
   "outputs": [
    {
     "data": {
      "text/plain": [
       "'spam'"
      ]
     },
     "execution_count": 14,
     "metadata": {},
     "output_type": "execute_result"
    }
   ],
   "source": [
    "pred(\"Congratulations! What a surprise, You’ve won a $200 gift card to Target. Click here to claim your reward.\")"
   ]
  },
  {
   "cell_type": "code",
   "execution_count": 17,
   "id": "c4f4796d-138a-42ef-9b6f-4773a1c7bed0",
   "metadata": {},
   "outputs": [
    {
     "data": {
      "text/plain": [
       "'ham'"
      ]
     },
     "execution_count": 17,
     "metadata": {},
     "output_type": "execute_result"
    }
   ],
   "source": [
    "pred(\"You’re owed a refund of 500$.\")"
   ]
  },
  {
   "cell_type": "code",
   "execution_count": 20,
   "id": "151cc6b0-3777-4a69-9a59-ddd45fabaa58",
   "metadata": {},
   "outputs": [
    {
     "data": {
      "text/plain": [
       "'ham'"
      ]
     },
     "execution_count": 20,
     "metadata": {},
     "output_type": "execute_result"
    }
   ],
   "source": [
    "pred(\"Congratulations! You’ve Won! take your $100. \")"
   ]
  },
  {
   "cell_type": "code",
   "execution_count": 21,
   "id": "ca4b3ff1-e71f-41bd-b428-aca7fdc26a3c",
   "metadata": {},
   "outputs": [
    {
     "data": {
      "text/plain": [
       "'ham'"
      ]
     },
     "execution_count": 21,
     "metadata": {},
     "output_type": "execute_result"
    }
   ],
   "source": [
    "pred(\"Enjoy 10% off — text “CUPCAKE” to [Number] to unlock instant discounts.\")"
   ]
  },
  {
   "cell_type": "code",
   "execution_count": 22,
   "id": "dcd9c1a5-4f06-4d53-a5d2-70c2ab596837",
   "metadata": {},
   "outputs": [
    {
     "data": {
      "text/plain": [
       "'ham'"
      ]
     },
     "execution_count": 22,
     "metadata": {},
     "output_type": "execute_result"
    }
   ],
   "source": [
    "pred(\"Hi Nick. This is to remind you about the $75 minimum payment on your credit card ending in XXXX. Payment is due on 01/01. Pls visit order.com to make your payment.\")"
   ]
  },
  {
   "cell_type": "code",
   "execution_count": 23,
   "id": "d66c719f-4c87-4927-9c82-c6f689500d0f",
   "metadata": {},
   "outputs": [
    {
     "data": {
      "text/plain": [
       "'spam'"
      ]
     },
     "execution_count": 23,
     "metadata": {},
     "output_type": "execute_result"
    }
   ],
   "source": [
    "pred(\"England v Macedonia - dont miss the goals/team news. Txt ur national team to 87077 eg ENGLAND to 87077 Try:WALES, SCOTLAND .20 POBOXox3650 16+\")"
   ]
  },
  {
   "cell_type": "code",
   "execution_count": null,
   "id": "94a61d42-ef39-4a6f-8ba2-b9942db87d0a",
   "metadata": {},
   "outputs": [],
   "source": []
  }
 ],
 "metadata": {
  "kernelspec": {
   "display_name": "Python 3 (ipykernel)",
   "language": "python",
   "name": "python3"
  },
  "language_info": {
   "codemirror_mode": {
    "name": "ipython",
    "version": 3
   },
   "file_extension": ".py",
   "mimetype": "text/x-python",
   "name": "python",
   "nbconvert_exporter": "python",
   "pygments_lexer": "ipython3",
   "version": "3.11.5"
  }
 },
 "nbformat": 4,
 "nbformat_minor": 5
}
